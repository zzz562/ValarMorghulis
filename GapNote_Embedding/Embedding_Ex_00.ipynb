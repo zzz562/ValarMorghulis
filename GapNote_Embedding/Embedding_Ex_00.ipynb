{
 "cells": [
  {
   "cell_type": "code",
   "execution_count": 1,
   "metadata": {
    "collapsed": true
   },
   "outputs": [
    {
     "name": "stderr",
     "output_type": "stream",
     "text": [
      "Building prefix dict from the default dictionary ...\n",
      "Dumping model to file cache /var/folders/r9/vl_7nj99067f60y2630ht6ph0000gn/T/jieba.cache\n",
      "Loading model cost 0.616 seconds.\n",
      "Prefix dict has been built successfully.\n"
     ]
    },
    {
     "name": "stdout",
     "output_type": "stream",
     "text": [
      "['越', '努力', '就', '越', '幸运']\n",
      "tensor([0.2401, 0.1455, 0.7308], grad_fn=<SelectBackward0>)\n"
     ]
    },
    {
     "data": {
      "text/plain": "tensor([[ 0.2401,  0.1455,  0.7308],\n        [-2.1940,  0.0417,  1.4288],\n        [-0.8244,  0.1068,  0.2268],\n        [ 0.1145, -0.5841,  1.9394]], grad_fn=<EmbeddingBackward0>)"
     },
     "execution_count": 1,
     "metadata": {},
     "output_type": "execute_result"
    }
   ],
   "source": [
    "from torch import nn\n",
    "import torch\n",
    "import jieba\n",
    "import numpy as np\n",
    "\n",
    "raw_text = \"\"\"越努力就越幸运\"\"\"\n",
    "#利用jieba进行分词\n",
    "words = list(jieba.cut(raw_text))\n",
    "print(words)\n",
    "#对标识符去重，生成由索引:标识符构成的字典\n",
    "word_to_ix = { i: word for i, word in enumerate(set(words))}\n",
    "#定义嵌入维度，并用正态分布，初始化词嵌入\n",
    "#nn.Embedding模块的输入是一个标注的下标列表，输出是对应的词嵌入\n",
    "embeds = nn.Embedding(4, 3)\n",
    "print(embeds.weight[0])\n",
    "#获取字典的关键字\n",
    "keys=word_to_ix.keys()\n",
    "keys_list=list(keys)\n",
    "#把所有关键字构成的列表转换为张量\n",
    "tensor_value=torch.LongTensor(keys_list)\n",
    "#把张量输入Embedding层，通过运算得到各标识符的词嵌入\n",
    "embeds(tensor_value)"
   ]
  },
  {
   "cell_type": "code",
   "execution_count": null,
   "outputs": [],
   "source": [],
   "metadata": {
    "collapsed": false
   }
  }
 ],
 "metadata": {
  "kernelspec": {
   "display_name": "Python 3",
   "language": "python",
   "name": "python3"
  },
  "language_info": {
   "codemirror_mode": {
    "name": "ipython",
    "version": 2
   },
   "file_extension": ".py",
   "mimetype": "text/x-python",
   "name": "python",
   "nbconvert_exporter": "python",
   "pygments_lexer": "ipython2",
   "version": "2.7.6"
  }
 },
 "nbformat": 4,
 "nbformat_minor": 0
}
