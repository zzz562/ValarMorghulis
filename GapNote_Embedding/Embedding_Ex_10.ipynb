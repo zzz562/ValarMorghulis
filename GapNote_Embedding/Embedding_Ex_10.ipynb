{
 "cells": [
  {
   "cell_type": "code",
   "execution_count": 2,
   "metadata": {
    "collapsed": true
   },
   "outputs": [
    {
     "name": "stdout",
     "output_type": "stream",
     "text": [
      "0\n"
     ]
    }
   ],
   "source": [
    "import jieba\n",
    "import numpy as np\n",
    "\n",
    "filePath='corpus.txt'\n",
    "fileSegWordDonePath ='corpusSegDone_1.txt'\n",
    "\n",
    "# 打印中文列表\n",
    "def PrintListChinese(list):\n",
    "    for i in range(len(list)):\n",
    "        print (list[i])\n",
    "\n",
    "# 读取文件内容到列表\n",
    "fileTrainRead = []\n",
    "with open(filePath,'r') as fileTrainRaw:\n",
    "    for line in fileTrainRaw:  # 按行读取文件\n",
    "        fileTrainRead.append(line)\n",
    "\n",
    "# jieba分词后保存在列表中\n",
    "fileTrainSeg=[]\n",
    "for i in range(len(fileTrainRead)):\n",
    "    fileTrainSeg.append([' '.join(list(jieba.cut(fileTrainRead[i][9:-11],cut_all=False)))])\n",
    "    if i % 10000 == 0:\n",
    "        print(i)\n",
    "\n",
    "# 保存分词结果到文件中\n",
    "with open(fileSegWordDonePath,'w',encoding='utf-8') as fW:\n",
    "    for i in range(len(fileTrainSeg)):\n",
    "        fW.write(fileTrainSeg[i][0])\n",
    "        fW.write('\\n')"
   ]
  },
  {
   "cell_type": "code",
   "execution_count": null,
   "outputs": [],
   "source": [],
   "metadata": {
    "collapsed": false
   }
  }
 ],
 "metadata": {
  "kernelspec": {
   "display_name": "Python 3",
   "language": "python",
   "name": "python3"
  },
  "language_info": {
   "codemirror_mode": {
    "name": "ipython",
    "version": 2
   },
   "file_extension": ".py",
   "mimetype": "text/x-python",
   "name": "python",
   "nbconvert_exporter": "python",
   "pygments_lexer": "ipython2",
   "version": "2.7.6"
  }
 },
 "nbformat": 4,
 "nbformat_minor": 0
}
