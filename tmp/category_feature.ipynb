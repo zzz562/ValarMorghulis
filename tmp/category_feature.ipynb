{
 "cells": [
  {
   "cell_type": "code",
   "execution_count": 1,
   "metadata": {
    "collapsed": true
   },
   "outputs": [
    {
     "data": {
      "text/plain": "Index(['category', 'pos_base', 'pos_sub', 'city', 'city_scale',\n       'city_civilization', 'city_strength', 'city_prosperity', 'cost',\n       'revenue', 'scale', 'demand_num', 'demand_freshness',\n       'demand_complexity', 'demand_fading', 'supply_num', 'supply_freshness',\n       'supply_concentration', 'interaction', 'social_network'],\n      dtype='object')"
     },
     "execution_count": 1,
     "metadata": {},
     "output_type": "execute_result"
    }
   ],
   "source": [
    "# 系统路径\n",
    "import os\n",
    "pwd = os.getcwd ()\n",
    "\n",
    "# 数据处理\n",
    "import pandas as pd\n",
    "import numpy as np\n",
    "\n",
    "# 数据导入\n",
    "df = pd.read_csv( pwd + '/category_features.csv',sep = '\\t')\n",
    "\n",
    "# 该品类分析数据集有21个变量，54253。变量可分为以下三个个部分：品类属性，品类所在城市的评分指标，品类用户规模和行为指标\n",
    "# （2019年某月数据）\n",
    "# 品类属性：\n",
    "# category ：品类ID，每个品类的划分为某城市某职类的用户群体\n",
    "# pos_base：职位基础分类\n",
    "# pos_sub ：职位精细分类\n",
    "# city ：品类所在城市\n",
    "\n",
    "# 品类所在城市指标\n",
    "# city_scale：品类所在城市的规模评分，综合了人口、经济、城区面积等属性\n",
    "# city_civilization：品类所在城市的文明程度评分，以科教水平为代表予以评估\n",
    "# city_strength：品类所在城市的经济体量评分，以总GDP，企业实体量级等为评分依据\n",
    "# city_prosperity: 品类所在城市的繁荣程度评分，以城市商业化程度，服务业等高附加值行业在产业结构中的比重等为评分依据\n",
    "\n",
    "# 品类用户规模和行为指标，各项指标均为实际数据取对数并做了一定偏移和归一化处理，每个指标的对数底不同，因此并不能以其还原真实数据情况\n",
    "# cost：获客成本指数\n",
    "# revenue：收入指数\n",
    "# scale：品类用户规模指数\n",
    "# demand_num：品类内求职需求指数\n",
    "# demand_freshness：品类内求职需求新鲜度，与求职需求的更新频次和新需求比例相关\n",
    "# demand_complexity：品类内求职需求复杂度，求职意向的信息复杂度\n",
    "# demand_fading：品类内求职需求凋零度，求职需求退出品类活跃群体的速率\n",
    "# supply_num：品类内岗位供给指数\n",
    "# supply_freshness：品类内岗位供给新鲜度\n",
    "# supply_concentration：品类内岗位供给的集中度，与岗位是否聚集与同企业实体或同一集团等因素相关\n",
    "# interaction：供求双方的交互和达成强度\n",
    "# social_network：品类的社交网络效应指数\n",
    "\n",
    "# 研究课题\n",
    "# 提升总 ROI (revenue - cost) 的策略（指数经过取对数计算，因此以 \"roi指标 =  revenue指标 - cost指标\" 来反应实际品类roi的相对关系）\n",
    "\n",
    "# 指标维度查看\n",
    "df.columns\n"
   ]
  },
  {
   "cell_type": "code",
   "execution_count": 3,
   "outputs": [],
   "source": [
    "# 检查'scale'列是否存在于DataFrame中\n",
    "sorted_df = df.sort_values(by='scale', ascending=False)\n",
    "# 截取排序后的前5000行\n",
    "top_5000 = sorted_df.head(5000)\n",
    "\n",
    "# 保存到新的CSV文件中\n",
    "top_5000.to_csv('category_top_5000.csv', index=False)"
   ],
   "metadata": {
    "collapsed": false
   }
  },
  {
   "cell_type": "code",
   "execution_count": null,
   "outputs": [],
   "source": [],
   "metadata": {
    "collapsed": false
   }
  }
 ],
 "metadata": {
  "kernelspec": {
   "display_name": "Python 3",
   "language": "python",
   "name": "python3"
  },
  "language_info": {
   "codemirror_mode": {
    "name": "ipython",
    "version": 2
   },
   "file_extension": ".py",
   "mimetype": "text/x-python",
   "name": "python",
   "nbconvert_exporter": "python",
   "pygments_lexer": "ipython2",
   "version": "2.7.6"
  }
 },
 "nbformat": 4,
 "nbformat_minor": 0
}
