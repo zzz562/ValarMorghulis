{
 "cells": [
  {
   "cell_type": "code",
   "execution_count": 4,
   "metadata": {
    "collapsed": true
   },
   "outputs": [
    {
     "name": "stderr",
     "output_type": "stream",
     "text": [
      "Found cached dataset ag_news (/Users/admin/.cache/huggingface/datasets/ag_news/default/0.0.0/bc2bcb40336ace1a0374767fc29bb0296cdaf8a6da7298436239c54d79180548)\n",
      "Found cached dataset imdb (/Users/admin/.cache/huggingface/datasets/imdb/plain_text/1.0.0/d613c88cf8fa3bab83b4ded3713f1f74830d1100e171db75bbddb80b3345c9c0)\n"
     ]
    }
   ],
   "source": [
    "from datasets import concatenate_datasets, load_dataset\n",
    "\n",
    "# bookcorpus = load_dataset(\"bookcorpus\", split = \"train\")\n",
    "# wiki = load_dataset(\"wikipedia\",\"20220301.en\", split = \"train\")\n",
    "#\n",
    "# wiki = wiki.remove_columns( [col for col in wiki.column_names if col != \"text\" ] )\n",
    "# dataset = concatenate_datasets([bookcorpus,wiki])\n",
    "\n",
    "agnews = load_dataset(\"ag_news\", split=\"train\")\n",
    "agnews = agnews.remove_columns([col for col in agnews.column_names if col != \"text\"])\n",
    "imdb = load_dataset(\"imdb\", split=\"train\")\n",
    "imdb = imdb.remove_columns([col for col in imdb.column_names if col != \"text\"])\n",
    "\n",
    "dataset = concatenate_datasets([agnews,imdb])\n",
    "\n",
    "\n",
    "d = dataset.train_test_split(test_size = 0.1)"
   ]
  },
  {
   "cell_type": "code",
   "execution_count": 6,
   "outputs": [],
   "source": [
    "def dataset_to_text(dataset, output_filename=\"data.txt\"):\n",
    "    \"\"\"Utility function to save dataset text to disk, useful for using the texts to train the tokenizer\n",
    "(as the tokenizer accepts files)\"\"\"\n",
    "    with open(output_filename, \"w\") as f:\n",
    "        for t in dataset[\"text\"]:\n",
    "          print(t, file=f)\n",
    "# save the training set to train.txt\n",
    "dataset_to_text(d[\"train\"], \"train.txt\")\n",
    "# save the testing set to test.txt\n",
    "dataset_to_text(d[\"test\"], \"test.txt\")"
   ],
   "metadata": {
    "collapsed": false,
    "pycharm": {
     "name": "#%%d 。\n"
    }
   }
  },
  {
   "cell_type": "code",
   "execution_count": 7,
   "outputs": [],
   "source": [],
   "metadata": {
    "collapsed": false
   }
  }
 ],
 "metadata": {
  "kernelspec": {
   "display_name": "Python 3",
   "language": "python",
   "name": "python3"
  },
  "language_info": {
   "codemirror_mode": {
    "name": "ipython",
    "version": 2
   },
   "file_extension": ".py",
   "mimetype": "text/x-python",
   "name": "python",
   "nbconvert_exporter": "python",
   "pygments_lexer": "ipython2",
   "version": "2.7.6"
  }
 },
 "nbformat": 4,
 "nbformat_minor": 0
}
